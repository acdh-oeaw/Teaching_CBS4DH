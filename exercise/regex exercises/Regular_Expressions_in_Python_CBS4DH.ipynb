{
  "nbformat": 4,
  "nbformat_minor": 0,
  "metadata": {
    "colab": {
      "provenance": []
    },
    "kernelspec": {
      "name": "python3",
      "display_name": "Python 3"
    },
    "language_info": {
      "name": "python"
    }
  },
  "cells": [
    {
      "cell_type": "markdown",
      "source": [
        "# **Regex with Python: using the *re* module**"
      ],
      "metadata": {
        "id": "X0Mj4ytpq8jL"
      }
    },
    {
      "cell_type": "markdown",
      "source": [
        "Examples taken from: https://www.w3schools.com/python/python_regex.asp - see for more extensive information on the python module re"
      ],
      "metadata": {
        "id": "ma45bL_ZyG5v"
      }
    },
    {
      "cell_type": "code",
      "execution_count": null,
      "metadata": {
        "id": "HuUTNPctq377"
      },
      "outputs": [],
      "source": [
        "#import module\n",
        "\n",
        "import re"
      ]
    },
    {
      "cell_type": "markdown",
      "source": [
        "We will take a closer look at three different functions of this module before we practice through exercises: Search(), Findall(), and Sub()"
      ],
      "metadata": {
        "id": "CAfhIt0bcqoa"
      }
    },
    {
      "cell_type": "markdown",
      "source": [
        "## **Search() function**\n",
        "\n",
        "*   *re.search(regular_expression, text)*\n",
        "*   returns a Match object if there is a match anywhere in the string"
      ],
      "metadata": {
        "id": "Bb3xnPixrZKz"
      }
    },
    {
      "cell_type": "code",
      "source": [
        "#Check if the given string starts with \"The\" and ends with \"Spain\":\n",
        "\n",
        "txt = \"The rain in Spain\"\n",
        "x = re.search(\"^The.*Spain$\", txt)\n",
        "\n",
        "if x: #a Match object exists, meaning a match has been found\n",
        "  print(\"YES! We have a match!\")\n",
        "else:\n",
        "  print(\"No match\")"
      ],
      "metadata": {
        "id": "5MaviZXJrS8b"
      },
      "execution_count": null,
      "outputs": []
    },
    {
      "cell_type": "markdown",
      "source": [
        "## **Findall() function**\n",
        "- *re.findall(regular_expression, text)*\n",
        "- returns a list containing all matches"
      ],
      "metadata": {
        "id": "QOiVEW02H6vA"
      }
    },
    {
      "cell_type": "code",
      "source": [
        "#Give back a list of results\n",
        "\n",
        "txt = \"The rain in Spain\"\n",
        "x = re.findall(\"ai\", txt)\n",
        "print(x)\n",
        "\n",
        "#Count the number of findings\n",
        "\n",
        "count = len(x)\n",
        "print(count)"
      ],
      "metadata": {
        "colab": {
          "base_uri": "https://localhost:8080/"
        },
        "id": "eidtlsqEILLJ",
        "outputId": "9f94e257-70ec-4739-d39d-ac45174ed416"
      },
      "execution_count": null,
      "outputs": [
        {
          "output_type": "stream",
          "name": "stdout",
          "text": [
            "['ai', 'ai']\n",
            "2\n"
          ]
        }
      ]
    },
    {
      "cell_type": "markdown",
      "source": [
        "## **Sub() function**\n",
        "\n",
        "*   *re.sub(regular_expression, new_string, text)*\n",
        "*   replaces one or many matches with a string"
      ],
      "metadata": {
        "id": "fvhbzWCAsgwv"
      }
    },
    {
      "cell_type": "code",
      "source": [
        "#Substitute all white space of the given string with \"9\"\n",
        "\n",
        "txt = \"The rain in Spain\"\n",
        "x = re.sub(\"\\s\", \"9\", txt)\n",
        "print(x)"
      ],
      "metadata": {
        "id": "4Jce5RxJs_UU"
      },
      "execution_count": null,
      "outputs": []
    },
    {
      "cell_type": "markdown",
      "source": [
        "## **Exercises**"
      ],
      "metadata": {
        "id": "fwBkbcBst9V8"
      }
    },
    {
      "cell_type": "markdown",
      "source": [
        "Exercise 1"
      ],
      "metadata": {
        "id": "_y0aDpJZurD2"
      }
    },
    {
      "cell_type": "code",
      "source": [
        "txt = \"W!e have. here a.n exam.ple, where s,om.e ex.t,ra, th.i!ngs, g?ot i.n. b,e!tw??een\"\n",
        "x = re.sub(\"your regular expression\", \"\", txt) #add your regular expression here\n",
        "#Output should be: We have here an example where some extra things got in between\n",
        "print(x)"
      ],
      "metadata": {
        "id": "4IiPwEGRuEI9"
      },
      "execution_count": null,
      "outputs": []
    },
    {
      "cell_type": "markdown",
      "source": [
        "Exercise 2"
      ],
      "metadata": {
        "id": "80PJcjVVut0U"
      }
    },
    {
      "cell_type": "code",
      "source": [
        "txt = \"Today we [1,5s] learn how [2s] to filter out some [3,50s] unwanted signs [5s] from a sentence.\"\n",
        "x = re.sub(\"your regular expression\", \"\", txt) #add your regular expression here\n",
        "#Output should be: Today we learn how to filter out some unwanted signs from a sentence.\n",
        "print(x)"
      ],
      "metadata": {
        "id": "wGDN_AkJvT9_"
      },
      "execution_count": null,
      "outputs": []
    },
    {
      "cell_type": "markdown",
      "source": [
        "Exercise 3"
      ],
      "metadata": {
        "id": "F8fDbNnfv6fa"
      }
    },
    {
      "cell_type": "code",
      "source": [
        "txt = \"An1oth2er p3robl4em th5at occur6ed a7re 8unwant9ed n10umbers.\"\n",
        "x = re.sub(\"your regular expression\", \"\", txt) #add your regular expression here\n",
        "#Output should be: Another problem that occured are unwanted numbers.\n",
        "print(x)"
      ],
      "metadata": {
        "id": "FXAltNHev5JS"
      },
      "execution_count": null,
      "outputs": []
    },
    {
      "cell_type": "markdown",
      "source": [
        "Exercise 4"
      ],
      "metadata": {
        "id": "wLnaJI4WwXDK"
      }
    },
    {
      "cell_type": "code",
      "source": [
        "txt = \"We have     some spacing  problem.   What shall  we do   about     it    ?\"\n",
        "x = re.sub(\"your regular expression\", \"your substitution\", txt) #add your regular expression and substitution here\n",
        "#Goal: We have some spacing problem. What shall we do about it?\n",
        "print(x)"
      ],
      "metadata": {
        "id": "cDRdfQvDwegS"
      },
      "execution_count": null,
      "outputs": []
    },
    {
      "cell_type": "markdown",
      "source": [
        "Exercise 5"
      ],
      "metadata": {
        "id": "_tzskJdfwc_c"
      }
    },
    {
      "cell_type": "code",
      "source": [
        "#Count all adjectives in the given text\n",
        "\n",
        "txt = \"breakable, complicated, sunshine, hate, tree, careful, amused, moments, brightness, Prague, concerned, noon, much, text, confused, Vienna, arts, comparative, eatable, tired\"\n",
        "x = len(re.findall(\"your regular expression\", txt)) #add your regular expression and substitution here\n",
        "print(x)"
      ],
      "metadata": {
        "id": "IHajHGKjxPV_"
      },
      "execution_count": null,
      "outputs": []
    }
  ]
}